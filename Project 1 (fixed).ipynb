{
 "cells": [
  {
   "cell_type": "markdown",
   "id": "6650afde",
   "metadata": {},
   "source": [
    "# Group 10 - Project 1\n",
    "\n",
    "# Members: Bryan Groves, Randy Lam, Zach Wood, Marti Reisinger\n",
    "\n",
    "# Topic: Drivers in revenue for top 1000 movies\n",
    "\n",
    "## Overview: We intend to utilize a dataset from Kaggle that outlines the top 1000 movies by their ranking. We intend to analyze the studio, runtime, and performance by date  from both revenue and number of movies that fall within these categories."
   ]
  },
  {
   "cell_type": "code",
   "execution_count": null,
   "id": "a5837883",
   "metadata": {},
   "outputs": [],
   "source": [
    "# Import \n",
    "import pandas as pd\n",
    "import matplotlib.pyplot as plt\n",
    "import numpy as np\n",
    "import scipy.stats as stats\n",
    "from scipy.stats import linregress\n",
    "import datetime"
   ]
  },
  {
   "cell_type": "code",
   "execution_count": null,
   "id": "49ec6353",
   "metadata": {},
   "outputs": [],
   "source": [
    "#Load CSV\n",
    "movie_df = pd.read_csv(\"Resources/movies.csv\")"
   ]
  },
  {
   "cell_type": "code",
   "execution_count": null,
   "id": "e1e4ff4a",
   "metadata": {},
   "outputs": [],
   "source": [
    "cleaned_columns = movie_df.drop(columns = [\"Movie Info\",\"Unnamed: 0\",\"Genre\"])"
   ]
  },
  {
   "cell_type": "code",
   "execution_count": null,
   "id": "eb44fa3b",
   "metadata": {},
   "outputs": [],
   "source": [
    "final_movie_list = cleaned_columns.dropna()"
   ]
  },
  {
   "cell_type": "markdown",
   "id": "e3ff062c",
   "metadata": {},
   "source": [
    "# Analysis"
   ]
  },
  {
   "cell_type": "markdown",
   "id": "0f91b018",
   "metadata": {},
   "source": [
    "## In analyzing the top 1000 dataset to understand what truly drives revenue in these popular movies, we wanted to see if there were clear distinction between studios. The following two questions provided an initial analysis of the movie studios and their revenue performance.\n",
    "\n",
    "### 1.\tHow much revenue each studio is generating by studio\n",
    "\n",
    "#### By first understanding the total revenue for a studio, we could see that the big names that we would expect to see were producing the most revenue. Walt Disney, Warner bros, Twentieth Century Fox, Universal Studios, and Sony made up a vast majority of all the revenue in movies in the top 5 spots.\n"
   ]
  },
  {
   "cell_type": "code",
   "execution_count": null,
   "id": "afe4b5d0",
   "metadata": {},
   "outputs": [],
   "source": [
    "rev_total_columns = final_movie_list.drop(columns = [\"Movie Runtime\",\"Title\",\"License\",\"Release Date\",\"Domestic Sales (in $)\",\"International Sales (in $)\"]).set_index('Distributor')"
   ]
  },
  {
   "cell_type": "code",
   "execution_count": null,
   "id": "586a9941",
   "metadata": {},
   "outputs": [],
   "source": [
    "rev_totals = rev_total_columns.groupby('Distributor').sum()"
   ]
  },
  {
   "cell_type": "code",
   "execution_count": null,
   "id": "197ebde2",
   "metadata": {},
   "outputs": [],
   "source": [
    "x_axis = np.arange(len(rev_totals))\n",
    "tick_locations = [value for value in x_axis]"
   ]
  },
  {
   "cell_type": "code",
   "execution_count": null,
   "id": "70dd73ee",
   "metadata": {},
   "outputs": [],
   "source": [
    "plot_pandas= rev_totals.sort_values(by=\"World Sales (in $)\", ascending=False).plot.bar(color='b')\n",
    "plt.xlabel(\"Distributor\")\n",
    "plt.ylabel(\"World Sales (in Million $)\")\n",
    "plt.title(\"World Sales Revenue by Distributor\")\n",
    "plt.show()"
   ]
  },
  {
   "cell_type": "markdown",
   "id": "3bdf83c0",
   "metadata": {},
   "source": [
    "### 2.\tPer studio, what is the studios average revenue for movies that fall within the top 1000 list\n",
    "\n",
    "#### As a studio may produce many more films to achieve the same success as a studio producing less films, we wanted to normalize the way in which we analyzed the revenue by studio, taking the average revenue of these studios. When measureing average total revenue in the top 1000 list per studio, as we expected the ranking changed. One interesting observation was that a studio that was on the bottom half of the list for total revenue found its way as the leading studio for average revenue.  The top 5 studios for average revenue now consisted of Newmarket films, Walt Disney, Summit Entertainment, and Dream Works."
   ]
  },
  {
   "cell_type": "code",
   "execution_count": null,
   "id": "3a13ce2b",
   "metadata": {},
   "outputs": [],
   "source": [
    "average_sales = rev_total_columns.groupby('Distributor').mean()\n"
   ]
  },
  {
   "cell_type": "code",
   "execution_count": null,
   "id": "c75abc6a",
   "metadata": {},
   "outputs": [],
   "source": [
    "plot_pandas=average_sales.sort_values(by=\"World Sales (in $)\", ascending=False).plot.bar(color='b')\n",
    "plt.xlabel(\"Distributor\")\n",
    "plt.ylabel(\"Average World Sales (in Million $)\")\n",
    "plt.title(\"Average World Sales Revenue by Distributor\")\n",
    "plt.show()"
   ]
  },
  {
   "cell_type": "markdown",
   "id": "e064dc98",
   "metadata": {},
   "source": [
    "## 3. We would like to look at the top 1000 movies and understand if summer blockbusters (June-Aug) fair better than holiday movies (Nov-Jan)\n",
    "\n",
    "### Based on the findings within this data sample we found that the months of June, July, and December have a larger revenue pull compared to all other months. This could be due to the beginning of summer break and winter holidays for many people allowing them to meet with friends and families.\n",
    "\n",
    "## 4. Which year had the best performance for revenue?\n",
    "\n",
    "### The year 2009 stands out as an outlier due to Avatar taking in 2.9 billion alone releasing in December. The closest movie to this would have been in 2019s’ Avenger’s End Game; however, this was not counted in our data set due to being released in April of 2019"
   ]
  },
  {
   "cell_type": "code",
   "execution_count": null,
   "id": "bc69f086",
   "metadata": {},
   "outputs": [],
   "source": [
    "#importing new csv file\n",
    "shortlist_df = pd.read_csv(\"Resources/Movies 3.csv\")\n",
    "pd.set_option('display.max_rows', None)\n"
   ]
  },
  {
   "cell_type": "code",
   "execution_count": null,
   "id": "50ce80ee",
   "metadata": {},
   "outputs": [],
   "source": [
    "shortlist_df['Release Date']=pd.to_datetime(shortlist_df['Release Date']).dt.month\n"
   ]
  },
  {
   "cell_type": "code",
   "execution_count": null,
   "id": "d4d0973f",
   "metadata": {},
   "outputs": [],
   "source": [
    "grouped=shortlist_df.groupby(['Release Date'], as_index=False).sum()"
   ]
  },
  {
   "cell_type": "code",
   "execution_count": null,
   "id": "98039822",
   "metadata": {},
   "outputs": [],
   "source": [
    "grouped.set_index('Release Date').groupby(\"Release Date\").sum()\n"
   ]
  },
  {
   "cell_type": "code",
   "execution_count": null,
   "id": "09137af6",
   "metadata": {},
   "outputs": [],
   "source": [
    "plt.rcParams[\"figure.figsize\"] = (10,10)\n",
    "grouped.drop(columns=[\"Ranking\"])\n",
    "grouped.pivot(index='Release Date', columns='World Sales', values='World Sales').plot(kind='bar')\n",
    "plt.xticks([0,1,2,3,4,5],[\"January\", \"June\", \"July\", \"August\",\"November\",\"December\"])\n",
    "plt.xlabel('Release Month')\n",
    "plt.ylabel('World Sales in Billions')\n",
    "plt.title('Blockbuster Releases')\n",
    "plt.legend(loc='upper center')\n",
    "plt.show()"
   ]
  },
  {
   "cell_type": "code",
   "execution_count": null,
   "id": "329f7f09",
   "metadata": {},
   "outputs": [],
   "source": [
    "movieslist = pd.read_csv(\"Resources/Movies 3.csv\")\n",
    "pd.set_option('display.max_rows', None)\n"
   ]
  },
  {
   "cell_type": "code",
   "execution_count": null,
   "id": "dcf75755",
   "metadata": {},
   "outputs": [],
   "source": [
    "movieslist['Release Date']=pd.to_datetime(movieslist['Release Date']).dt.year\n"
   ]
  },
  {
   "cell_type": "code",
   "execution_count": null,
   "id": "b2ac8dc3",
   "metadata": {},
   "outputs": [],
   "source": [
    "years=movieslist.groupby(['Release Date'], as_index=False).sum()\n"
   ]
  },
  {
   "cell_type": "code",
   "execution_count": null,
   "id": "e8b904ad",
   "metadata": {},
   "outputs": [],
   "source": [
    "years.set_index('Release Date').groupby(\"Release Date\").sum()/1e9"
   ]
  },
  {
   "cell_type": "code",
   "execution_count": null,
   "id": "3cf74513",
   "metadata": {},
   "outputs": [],
   "source": [
    "years.plot.barh(x=\"Release Date\", y=\"World Sales\")\n",
    "plt.xlabel('World Sales in Billions')\n",
    "plt.ylabel('Release Year')"
   ]
  },
  {
   "cell_type": "markdown",
   "id": "9c2c17e7",
   "metadata": {},
   "source": [
    "## 5. Create chart based on revenue by market\n",
    "\n",
    "### By analyzing International vs Domestic revenue we want to see if there is a clear correlation between the two. Will movies that did well domestically also do well internationally?\n",
    "\n",
    "#### Using a linear regression model we can see that most movies in our data set are close to the regression line. With an R-squared of 63% we can say there is a moderate level of correlation. 63% of the variation in International sales can be attributed to the variation in domestic sales.\n",
    "\n",
    "#### There are a few outliers in the high grossing films. Most of the movies in these outliers did very well internationally and didn’t do as well domestically. This was surprising, the opposite was what we expected.\n"
   ]
  },
  {
   "cell_type": "code",
   "execution_count": null,
   "id": "cded16ee",
   "metadata": {},
   "outputs": [],
   "source": [
    "plt.rcParams[\"figure.figsize\"] = (10,5)\n",
    "x = final_movie_list['Domestic Sales (in $)'] \n",
    "y = final_movie_list['International Sales (in $)']\n",
    "plt.scatter(x , y)\n",
    "plt.xlabel(\"Domestic Sales (in $)\")\n",
    "plt.ylabel(\"International Sales (in $)\")\n",
    "plt.title(\"International Vs Domestic Sales for Top 1000 Grossing Movies\")            \n",
    "plt.show()"
   ]
  },
  {
   "cell_type": "code",
   "execution_count": null,
   "id": "11583ce7",
   "metadata": {},
   "outputs": [],
   "source": [
    "(slope, intercept, rvalue, pvalue, stderr) = linregress(x, y)\n",
    "regress_values = x * slope + intercept\n",
    "line_eq = \"y = \" + str(round(slope,2)) + \"x + \" + str(round(intercept,2))\n",
    "plt.rcParams[\"figure.figsize\"] = (10,5)\n",
    "plt.scatter(x,y)\n",
    "plt.plot(x,regress_values,\"r-\")\n",
    "plt.xlabel(\"Domestic Sales (in $)\")\n",
    "plt.ylabel(\"International Sales (in $)\")\n",
    "plt.title(\"International Vs Domestic Sales for Top 1000 Grossing Movies\")  \n",
    "plt.annotate(line_eq ,(510000000,200000000),fontsize=10,color=\"r\")\n",
    "print(f\"The r-squared is: {rvalue**2}\")\n",
    "plt.show()"
   ]
  },
  {
   "cell_type": "markdown",
   "id": "9c74896f",
   "metadata": {},
   "source": [
    "## 6. Of the top 1000 grossing movies, what License will the majority fall within? G, PG, PG-13 or R?\n",
    "\n",
    "#### We found that PG-13 by far had the highest amount of movies. This is what we expected to find, PG-13 movies appeal to not only younger teens but also adults of all ages. With 48.8% of the movies falling in this license category we can assume that producing a film with this license allows studios to market to the most people. G Rated movies made up the least amount of the total in our data set. This was surprising to us considering the large amount of children movies in our dataset. Upon looking into this we found that the film rating industry made an altercation to their system in 1985, when they added the PG-13 rating. According to the MPAA official guidelines: In order to have a movie rated “G” there cannot be any language, violence, etc that would offend parents whose younger children will see the film. This change made the “G” Rating for films almost non existent.\n",
    "\n",
    "\n",
    "\n",
    "\n",
    "\n",
    "\n",
    "\n"
   ]
  },
  {
   "cell_type": "code",
   "execution_count": null,
   "id": "c1360f52",
   "metadata": {},
   "outputs": [],
   "source": [
    "G_data = final_movie_list.loc[final_movie_list[\"License\"]=='G']\n"
   ]
  },
  {
   "cell_type": "code",
   "execution_count": null,
   "id": "160e6f3b",
   "metadata": {},
   "outputs": [],
   "source": [
    "PG_data = final_movie_list.loc[final_movie_list[\"License\"]=='PG']\n"
   ]
  },
  {
   "cell_type": "code",
   "execution_count": null,
   "id": "a68a99c0",
   "metadata": {},
   "outputs": [],
   "source": [
    "PG13_data = final_movie_list.loc[final_movie_list[\"License\"]=='PG-13']\n"
   ]
  },
  {
   "cell_type": "code",
   "execution_count": null,
   "id": "6b559790",
   "metadata": {},
   "outputs": [],
   "source": [
    "R_data = final_movie_list.loc[final_movie_list[\"License\"]=='R']\n"
   ]
  },
  {
   "cell_type": "code",
   "execution_count": null,
   "id": "0334b379",
   "metadata": {},
   "outputs": [],
   "source": [
    "G_data[\"Title\"].nunique()"
   ]
  },
  {
   "cell_type": "code",
   "execution_count": null,
   "id": "e29898da",
   "metadata": {},
   "outputs": [],
   "source": [
    "PG_data[\"Title\"].nunique()\n"
   ]
  },
  {
   "cell_type": "code",
   "execution_count": null,
   "id": "4bd02437",
   "metadata": {},
   "outputs": [],
   "source": [
    "PG13_data[\"Title\"].nunique()"
   ]
  },
  {
   "cell_type": "code",
   "execution_count": null,
   "id": "27d72e77",
   "metadata": {},
   "outputs": [],
   "source": [
    "R_data[\"Title\"].nunique()"
   ]
  },
  {
   "cell_type": "code",
   "execution_count": null,
   "id": "a1ffc6ab",
   "metadata": {},
   "outputs": [],
   "source": [
    "G = 14\n",
    "PG = 173\n",
    "PG13 = 363\n",
    "R = 194"
   ]
  },
  {
   "cell_type": "code",
   "execution_count": null,
   "id": "9f1f430b",
   "metadata": {},
   "outputs": [],
   "source": [
    "license_df = pd.DataFrame({\n",
    "    \"G Rating\":G,\n",
    "    \"PG Rating\":PG,\n",
    "    \"PG-13 Rating\":PG13,\n",
    "    \"R Rating\":R,}, index=[0])\n"
   ]
  },
  {
   "cell_type": "code",
   "execution_count": null,
   "id": "2afa6f9b",
   "metadata": {},
   "outputs": [],
   "source": [
    "license_df[[\"G Rating\",\"PG Rating\",\"PG-13 Rating\",\"R Rating\"]]\n"
   ]
  },
  {
   "cell_type": "code",
   "execution_count": null,
   "id": "d1f5ba29",
   "metadata": {},
   "outputs": [],
   "source": [
    "ratings = final_movie_list[\"License\"].value_counts()\n",
    "numbers = ratings.index\n",
    "quantity = ratings.values\n",
    "import plotly.express as px\n",
    "fig = px.pie(final_movie_list, values=quantity, names=numbers, title = 'Ratings of Top 1000 Grossing Movies')\n",
    "fig.show()"
   ]
  },
  {
   "cell_type": "code",
   "execution_count": null,
   "id": "6d25a212",
   "metadata": {},
   "outputs": [],
   "source": [
    "License_Chart = license_df.plot.bar(color=['blue', 'red', 'green', 'cyan'], align= \"center\")\n",
    "\n",
    "plt.ylabel(\"Movie Count\")\n",
    "plt.xlabel(\"Movie Rating\")\n",
    "plt.title('Ratings of Top 1000 Grossing Movies')\n",
    "plt.show()\n",
    "\n"
   ]
  },
  {
   "cell_type": "markdown",
   "id": "2e762e18",
   "metadata": {},
   "source": [
    "# Hypothesis Test"
   ]
  },
  {
   "cell_type": "markdown",
   "id": "ea44814a",
   "metadata": {},
   "source": [
    "### Null Hypothesis: There is no difference in earnings in films based on runtime.\n",
    "\n",
    "### Our hypothesis: Shorter films within our sample will have higher global sales totals than longer films.\n",
    "\n",
    "#### We based our hypothesis on the notion that shorter films would bring in more total viewership because they would logically fit into one’s schedule more easily. It might be more challenging to get to the theaters if you have to set aside 2.5 or 3 hours as opposed to 90 minutes. Additionally, shorter films can be shown more frequently, and more showtimes could produce higher ticket sales.\n",
    "\n",
    "#### In order to analyze “short” and “long” films, we needed to make a decision on what those parameters actually meant. The bar chart displayed (f) shows a distribution of the amount of films in our sample by their runtime. They are binned in 10 minute segments to provide a visual summary that is easier to follow. The median (116) and mean (117.2) minutes of runtime for the sample were similar, and the distribution had a right skew that represented movies that ran very long. Half of all films we analyzed ran between about 100 and 130 minutes, so we found that as a reasonable group to deem “medium” in length. We chose not to include these in our analysis, and instead cut our data at all movies less than 101 minutes or greater than 130 minutes, which represented our first and fourth quartiles respectively."
   ]
  },
  {
   "cell_type": "code",
   "execution_count": null,
   "id": "278b7a5f",
   "metadata": {},
   "outputs": [],
   "source": [
    "#Zach Hypothesis"
   ]
  },
  {
   "cell_type": "code",
   "execution_count": null,
   "id": "ef51e69f",
   "metadata": {},
   "outputs": [],
   "source": [
    "hypoth_df = final_movie_list"
   ]
  },
  {
   "cell_type": "code",
   "execution_count": null,
   "id": "b6d6c684",
   "metadata": {},
   "outputs": [],
   "source": [
    "hypoth_df[\"Movie Runtime\"] = hypoth_df[\"Movie Runtime\"].str.replace(\" hr\", \"*60\").str.replace(\" \", \" + \").str.replace(\"min\", \"0\").apply(eval)"
   ]
  },
  {
   "cell_type": "code",
   "execution_count": null,
   "id": "42d5c696",
   "metadata": {},
   "outputs": [],
   "source": [
    "hypoth_rev_list = hypoth_df[\"World Sales (in $)\"].tolist()\n",
    "hypoth_time_list = hypoth_df[\"Movie Runtime\"].tolist()"
   ]
  },
  {
   "cell_type": "code",
   "execution_count": null,
   "id": "46651bd9",
   "metadata": {},
   "outputs": [],
   "source": [
    "print(hypoth_df[\"Movie Runtime\"].median())\n",
    "print(hypoth_df[\"Movie Runtime\"].mean())\n",
    "print(hypoth_df[\"Movie Runtime\"].min())\n",
    "print(hypoth_df[\"Movie Runtime\"].max())"
   ]
  },
  {
   "cell_type": "code",
   "execution_count": null,
   "id": "324db8f1",
   "metadata": {},
   "outputs": [],
   "source": [
    "hypoth_time_series = hypoth_df[\"Movie Runtime\"] \n",
    "\n",
    "hypoth_quartiles = hypoth_time_series.quantile([.25, .5, .75])\n",
    "hypoth_lower = hypoth_quartiles[.25]\n",
    "hypoth_upper = hypoth_quartiles[.75]\n",
    "hypoth_iqr = hypoth_upper - hypoth_lower\n",
    "\n",
    "print(hypoth_lower)\n",
    "print(hypoth_upper)"
   ]
  },
  {
   "cell_type": "markdown",
   "id": "94cd889a",
   "metadata": {},
   "source": [
    "#### In order to analyze “short” and “long” films, we needed to make a decision on what those parameters actually meant. The bar chart displayed shows a distribution of the amount of films in our sample by their runtime. They are binned in 10 minute segments to provide a visual summary that is easier to follow. The median (116) and mean (117.2) minutes of runtime for the sample were similar, and the distribution had a right skew that represented movies that ran very long. Half of all films we analyzed ran between about 100 and 130 minutes, so we found that as a reasonable group to deem “medium” in length. We chose not to include these in our analysis, and instead cut our data at all movies less than 101 minutes or greater than 130 minutes, which represented our first and fourth quartiles respectively."
   ]
  },
  {
   "cell_type": "code",
   "execution_count": null,
   "id": "067ae6d9",
   "metadata": {},
   "outputs": [],
   "source": [
    "plt.hist(hypoth_time_list, bins = [70, 80, 90, 100, 110, 120, 130, 140, 150, 160, 170, 180, 190, 200, 210], rwidth = .95)\n",
    "\n",
    "plt.title(\"Distribution of Films by Runtime\")\n",
    "plt.xlabel(\"Film Runtime in Minutes\")\n",
    "plt.ylabel(\"Count\")\n",
    "\n",
    "plt.show()"
   ]
  },
  {
   "cell_type": "code",
   "execution_count": null,
   "id": "beaa0803",
   "metadata": {},
   "outputs": [],
   "source": [
    "hypoth_s_df = hypoth_df.loc[hypoth_df[\"Movie Runtime\"] <= 101]\n",
    "hypoth_l_df = hypoth_df.loc[hypoth_df[\"Movie Runtime\"] >= 130]\n",
    "\n",
    "hypoth_m_df = hypoth_df.loc[(hypoth_df[\"Movie Runtime\"] > 101) & (hypoth_df[\"Movie Runtime\"] < 130)]"
   ]
  },
  {
   "cell_type": "code",
   "execution_count": null,
   "id": "33e62052",
   "metadata": {},
   "outputs": [],
   "source": [
    "hypoth_s_series = hypoth_s_df[\"World Sales (in $)\"].squeeze()\n",
    "hypoth_l_series = hypoth_l_df[\"World Sales (in $)\"].squeeze()\n",
    "hypoth_m_series = hypoth_m_df[\"World Sales (in $)\"].squeeze()\n",
    "\n",
    "hypoth_s_timelist = hypoth_s_df[\"Movie Runtime\"].to_list()\n",
    "hypoth_l_timelist = hypoth_l_df[\"Movie Runtime\"].to_list()\n",
    "hypoth_m_timelist = hypoth_m_df[\"Movie Runtime\"].to_list()"
   ]
  },
  {
   "cell_type": "markdown",
   "id": "99ede251",
   "metadata": {},
   "source": [
    "#### We then ran our independent samples t-test, where sample 1 included any movies less than 101 minutes and sample 2 included movies over 130 minutes. Our t-test was one-tailed and specified that sample 1 would have a greater mean than sample 2. Therefore, we could only accept our null hypothesis if that condition occurred; if there was no significant difference or sample 2’s mean was greater, we’d fail to reject the null. Unfortunately for our prediction, the latter was the case. Our p-value was .99, so our sample does not support the idea that shorter films make more money. In fact, looking at our sample 1 mean (334,578,465) versus our sample 2 mean (563,375,537), it is evident that the opposite finding might be true."
   ]
  },
  {
   "cell_type": "code",
   "execution_count": null,
   "id": "a969cabd",
   "metadata": {},
   "outputs": [],
   "source": [
    "stats.ttest_ind(hypoth_s_series, hypoth_l_series, alternative = \"greater\")"
   ]
  },
  {
   "cell_type": "code",
   "execution_count": null,
   "id": "e411a6a7",
   "metadata": {},
   "outputs": [],
   "source": [
    "print(hypoth_s_series.mean())\n",
    "print(hypoth_l_series.mean())"
   ]
  },
  {
   "cell_type": "markdown",
   "id": "1d2cd290",
   "metadata": {},
   "source": [
    "#### The scatterplot we made backs up this idea. In totality, long films had more record-setting box office numbers. Some of the data points for that subgroup were substantially higher than anything else on our chart. A general rule seems to be that movies have greater potential to earn if their runtime is longer. There are plenty of movies that hit similar earning figures regardless of runtime, as evidenced by the cluster of data points at the bottom of the plot. Longer films broke apart from that cluster more frequently than shorter films and even medium length ones."
   ]
  },
  {
   "cell_type": "code",
   "execution_count": null,
   "id": "bb895cc4",
   "metadata": {},
   "outputs": [],
   "source": [
    "plt.scatter(hypoth_s_timelist, hypoth_s_series, marker = \"o\", facecolors = \"lightblue\", edgecolors = \"black\")\n",
    "plt.scatter(hypoth_l_timelist, hypoth_l_series, marker = \"o\", facecolors = \"lightgreen\", edgecolors = \"black\")\n",
    "plt.scatter(hypoth_m_timelist, hypoth_m_series, marker = \"o\", facecolors = \"orange\", edgecolors = \"black\")\n",
    "\n",
    "plt.title(\"Total Film Sales by Runtime\")\n",
    "plt.xlabel(\"Film Runtime in Minutes\")\n",
    "plt.ylabel(\"World Sales in Billions of Dollars\")\n",
    "\n",
    "plt.legend([\"Short Films\", \"Long Films\", \"Medium Films\"])\n",
    "\n",
    "plt.show()"
   ]
  },
  {
   "cell_type": "code",
   "execution_count": null,
   "id": "7d6370c9",
   "metadata": {},
   "outputs": [],
   "source": [
    "hypoth_s_earnlist = hypoth_s_df[\"World Sales (in $)\"].to_list()\n",
    "hypoth_l_earnlist = hypoth_l_df[\"World Sales (in $)\"].to_list()"
   ]
  },
  {
   "cell_type": "code",
   "execution_count": null,
   "id": "e6be941f",
   "metadata": {},
   "outputs": [],
   "source": [
    "hypoth_earndict = {\"Short Films\": hypoth_s_earnlist, \"Long Films\": hypoth_l_earnlist}\n",
    "hypoth_boxid = [1, 2]"
   ]
  },
  {
   "cell_type": "markdown",
   "id": "d604606b",
   "metadata": {},
   "source": [
    "#### Finally, our boxplot provides another visual that suggests more variance in earnings among lengthier films. The range of world sales by short films is condensed with a larger group of potential outliers that lie above the upper bound for the interquartile range. There are only 5 films that are considered potential outliers in the long films group, and a few of them earned substantially more than the rest of the sample.\n"
   ]
  },
  {
   "cell_type": "code",
   "execution_count": null,
   "id": "3db1074b",
   "metadata": {},
   "outputs": [],
   "source": [
    "plt.boxplot(hypoth_earndict.values())\n",
    "\n",
    "plt.title(\"Distribution of Earnings, Short vs. Long Films\")\n",
    "plt.ylabel(\"World Sales in Billions of Dollars\")\n",
    "plt.xticks(hypoth_boxid, hypoth_earndict.keys())\n",
    "\n",
    "plt.show()"
   ]
  },
  {
   "cell_type": "code",
   "execution_count": null,
   "id": "07c51971",
   "metadata": {},
   "outputs": [],
   "source": [
    "hypoth_s_dfdis = hypoth_s_df.sort_values(by = [\"World Sales (in $)\"], ascending = False)\n",
    "\n",
    "hypoth_s_dfdis.head(5)"
   ]
  },
  {
   "cell_type": "code",
   "execution_count": null,
   "id": "0a485da6",
   "metadata": {},
   "outputs": [],
   "source": [
    "hypoth_l_dfdis = hypoth_l_df.sort_values(by = [\"World Sales (in $)\"], ascending = False)\n",
    "\n",
    "hypoth_l_dfdis.head(5)"
   ]
  },
  {
   "cell_type": "markdown",
   "id": "213231d8",
   "metadata": {},
   "source": [
    "#### To get a snapshot of why our hypothesis test went the way it did, we looked at the top selling films in each subgroup. Many of the short films are G or PG rated and also animated, so there may be a smaller scope in terms of target audience. These films are probably shorter for a reason; they are made with children in mind and likely understand that this age group doesn’t necessarily want or need films that last multiple hours. Plenty of the top earning “long” films were PG-13 and may have a larger target audience, involving children, teens, and adults alike. Another notable observation was the clear trend of franchised movies breaking box office records. Star Wars, The Avengers, and Despicable Me are all staples of the movie world, and these movies were some of the highest earners. Part of the cause there is likely because of their reputation and anticipation leading up to their releases.\n",
    "\n",
    "#### Our hypothesis proved to be off base, but we gained some valuable insights and potential factors in how runtime influences the earnings of films worldwide."
   ]
  },
  {
   "cell_type": "code",
   "execution_count": null,
   "id": "73bd9d9b",
   "metadata": {},
   "outputs": [],
   "source": []
  },
  {
   "cell_type": "code",
   "execution_count": null,
   "id": "d1a61f29",
   "metadata": {},
   "outputs": [],
   "source": []
  },
  {
   "cell_type": "code",
   "execution_count": null,
   "id": "578d1219",
   "metadata": {},
   "outputs": [],
   "source": []
  }
 ],
 "metadata": {
  "kernelspec": {
   "display_name": "Python 3 (ipykernel)",
   "language": "python",
   "name": "python3"
  },
  "language_info": {
   "codemirror_mode": {
    "name": "ipython",
    "version": 3
   },
   "file_extension": ".py",
   "mimetype": "text/x-python",
   "name": "python",
   "nbconvert_exporter": "python",
   "pygments_lexer": "ipython3",
   "version": "3.8.13"
  }
 },
 "nbformat": 4,
 "nbformat_minor": 5
}
