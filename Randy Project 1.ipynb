{
 "cells": [
  {
   "cell_type": "markdown",
   "id": "6650afde",
   "metadata": {},
   "source": [
    "# Group 10 - Project 1\n",
    "\n",
    "# Members: Bryan Groves, Randy Lam, Zach Wood, Marti Reisinger\n",
    "\n",
    "# Topic: Drivers in revenue for top 1000 movies\n",
    "\n",
    "## Overview: We intend to utilize a dataset from Kaggle that outlines the top 1000 movies by their ranking. We intend to analyze the studio, runtime, and performance by date  from both revenue and number of movies that fall within these categories."
   ]
  },
  {
   "cell_type": "code",
   "execution_count": null,
   "id": "a5837883",
   "metadata": {},
   "outputs": [],
   "source": [
    "# Import \n",
    "import pandas as pd\n",
    "import matplotlib.pyplot as plt\n",
    "import numpy as np"
   ]
  },
  {
   "cell_type": "code",
   "execution_count": null,
   "id": "49ec6353",
   "metadata": {},
   "outputs": [],
   "source": [
    "#Load CSV\n",
    "movie_df = pd.read_csv(\"Resources/movies.csv\")\n",
    "movie_df.head()"
   ]
  },
  {
   "cell_type": "code",
   "execution_count": null,
   "id": "e1e4ff4a",
   "metadata": {},
   "outputs": [],
   "source": [
    "cleaned_columns = movie_df.drop(columns = [\"Movie Info\",\"Unnamed: 0\",\"Genre\"])\n",
    "cleaned_columns.head()"
   ]
  },
  {
   "cell_type": "code",
   "execution_count": null,
   "id": "eb44fa3b",
   "metadata": {},
   "outputs": [],
   "source": [
    "final_movie_list = cleaned_columns.dropna()\n",
    "final_movie_list"
   ]
  },
  {
   "cell_type": "code",
   "execution_count": null,
   "id": "fe605d0c",
   "metadata": {},
   "outputs": [],
   "source": [
    "final_movie_list[\"Domestic Sales (in $)\"] = final_movie_list['Domestic Sales (in $)'].map(\"${:,.2f}\".format)\n",
    "final_movie_list[\"International Sales (in $)\"] = final_movie_list['International Sales (in $)'].map(\"${:,.2f}\".format)\n",
    "final_movie_list[\"World Sales (in $)\"] = final_movie_list['World Sales (in $)'].map(\"${:,.2f}\".format)\n",
    "final_movie_list"
   ]
  },
  {
   "cell_type": "markdown",
   "id": "e3ff062c",
   "metadata": {},
   "source": [
    "# Analysis"
   ]
  },
  {
   "cell_type": "markdown",
   "id": "0f91b018",
   "metadata": {},
   "source": [
    "#### We would like to see how much revenue each studio is generating in total by creating stacked bar chart with revenue by studio"
   ]
  },
  {
   "cell_type": "code",
   "execution_count": null,
   "id": "c00731a9",
   "metadata": {
    "scrolled": true
   },
   "outputs": [],
   "source": [
    "#Bryan Visual 1\n",
    "final_movie_list = movie_df.groupby('Distributor').sum()\n",
    "\n",
    "final_movie_list.head()"
   ]
  },
  {
   "cell_type": "code",
   "execution_count": null,
   "id": "d331aa4a",
   "metadata": {},
   "outputs": [],
   "source": []
  },
  {
   "cell_type": "code",
   "execution_count": null,
   "id": "1ef64fd1",
   "metadata": {},
   "outputs": [],
   "source": []
  },
  {
   "cell_type": "markdown",
   "id": "3bdf83c0",
   "metadata": {},
   "source": [
    "#### Per studio, what is their average revenue for movies that fall within the top 1000 list"
   ]
  },
  {
   "cell_type": "code",
   "execution_count": null,
   "id": "d794a3bc",
   "metadata": {},
   "outputs": [],
   "source": [
    "#Bryan Visual 2 \n",
    "final_movie_list = movie_df.groupby(['Distributor']).count()\n",
    "final_movie_list"
   ]
  },
  {
   "cell_type": "code",
   "execution_count": null,
   "id": "c75abc6a",
   "metadata": {},
   "outputs": [],
   "source": [
    "average_revenue = studio_group_sum / studio_group_count\n",
    "average_revenue"
   ]
  },
  {
   "cell_type": "code",
   "execution_count": null,
   "id": "5aa1486d",
   "metadata": {},
   "outputs": [],
   "source": []
  },
  {
   "cell_type": "markdown",
   "id": "a53c411c",
   "metadata": {},
   "source": [
    "#### Is there a better time of year for movie successes? We would like to look at the top 1000 movies and understand if summer blockbusters (June-Aug) fair better than holiday movies (Nov-Jan)"
   ]
  },
  {
   "cell_type": "code",
   "execution_count": null,
   "id": "e29898da",
   "metadata": {
    "scrolled": false
   },
   "outputs": [],
   "source": [
    "#Randy Visual 1\n",
    "\n",
    "movie_df['Release Date']=pd.to_datetime(movie_df['Release Date'])\n",
    "\n",
    "movie_df"
   ]
  },
  {
   "cell_type": "code",
   "execution_count": null,
   "id": "60a567e9",
   "metadata": {},
   "outputs": [],
   "source": [
    "movie_df.set_index('Release Date')\n",
    "movie_df"
   ]
  },
  {
   "cell_type": "code",
   "execution_count": null,
   "id": "20e05e52",
   "metadata": {},
   "outputs": [],
   "source": [
    "movie_df.loc[movie_df.index.isin([2, 3, 4, 5, 9, 10])]\n",
    "movie_df"
   ]
  },
  {
   "cell_type": "code",
   "execution_count": null,
   "id": "cc0c1656",
   "metadata": {},
   "outputs": [],
   "source": []
  },
  {
   "cell_type": "code",
   "execution_count": null,
   "id": "23b49095",
   "metadata": {},
   "outputs": [],
   "source": []
  },
  {
   "cell_type": "code",
   "execution_count": null,
   "id": "c91dee84",
   "metadata": {},
   "outputs": [],
   "source": [
    "#bar chart\n",
    "year_revenue = movie_df.drop(columns = [\"Title\",\"Unnamed: 0\",\"Distributor\", \"Genre\", \"Movie Runtime\", \"License\", \"Domestic Sales (in $)\", \"International Sales (in $)\"])\n",
    "\n",
    "plot_pandas= month_revenue.plot.bar(color='r')\n",
    "plt.xlabel(\"year\")\n",
    "plt.ylabel(\"revenue (in billions)\")\n",
    "plt.title(\"revenue by year\")"
   ]
  },
  {
   "cell_type": "markdown",
   "id": "a5eedafb",
   "metadata": {},
   "source": [
    "#### We would like to measure the total revenue by year for movies that are in the top 1000 list"
   ]
  },
  {
   "cell_type": "code",
   "execution_count": null,
   "id": "27d72e77",
   "metadata": {},
   "outputs": [],
   "source": [
    "#Randy Visual 2"
   ]
  },
  {
   "cell_type": "code",
   "execution_count": null,
   "id": "d351fa6e",
   "metadata": {},
   "outputs": [],
   "source": [
    "movie_df['Release Date']=pd.to_datetime(movie_df['Release Date']).dt.strftime('%Y-%m-%d')"
   ]
  },
  {
   "cell_type": "code",
   "execution_count": null,
   "id": "523146ec",
   "metadata": {},
   "outputs": [],
   "source": [
    "year_revenue = movie_df.drop(columns = [\"Title\",\"Unnamed: 0\",\"Distributor\", \"Genre\", \"Movie Runtime\", \"License\", \"Domestic Sales (in $)\", \"International Sales (in $)\"])\n",
    "\n",
    "plot_pandas= month_revenue.plot.bar(color='r')\n",
    "plt.xlabel(\"year\")\n",
    "plt.ylabel(\"revenue (in billions)\")\n",
    "plt.title(\"revenue by year\")"
   ]
  },
  {
   "cell_type": "code",
   "execution_count": null,
   "id": "bf8ee7ee",
   "metadata": {},
   "outputs": [],
   "source": []
  },
  {
   "cell_type": "markdown",
   "id": "80c9537c",
   "metadata": {},
   "source": [
    "#### Create chart based on revenue by market"
   ]
  },
  {
   "cell_type": "code",
   "execution_count": null,
   "id": "9f1f430b",
   "metadata": {},
   "outputs": [],
   "source": [
    "#Marti Visual 1"
   ]
  },
  {
   "cell_type": "code",
   "execution_count": null,
   "id": "513ee8a9",
   "metadata": {},
   "outputs": [],
   "source": []
  },
  {
   "cell_type": "code",
   "execution_count": null,
   "id": "9a82e557",
   "metadata": {},
   "outputs": [],
   "source": []
  },
  {
   "cell_type": "markdown",
   "id": "45af9d44",
   "metadata": {},
   "source": [
    "#### Provide analysis of total counts and revenue by rating"
   ]
  },
  {
   "cell_type": "code",
   "execution_count": null,
   "id": "6d25a212",
   "metadata": {},
   "outputs": [],
   "source": [
    "#Marti Visual 2"
   ]
  },
  {
   "cell_type": "code",
   "execution_count": null,
   "id": "a4c4422b",
   "metadata": {},
   "outputs": [],
   "source": []
  },
  {
   "cell_type": "code",
   "execution_count": null,
   "id": "3d112a95",
   "metadata": {},
   "outputs": [],
   "source": []
  },
  {
   "cell_type": "markdown",
   "id": "2e762e18",
   "metadata": {},
   "source": [
    "# Hypothesis Test"
   ]
  },
  {
   "cell_type": "markdown",
   "id": "ea44814a",
   "metadata": {},
   "source": [
    "#### We believe that shorter movies will gross more revenue than longer movies that were listed in the top 1000. Our intent is to find the midpoint of run time and understand the revenue associated with those groups. Plotting the times initially to understand the distribution of movies by runtime"
   ]
  },
  {
   "cell_type": "code",
   "execution_count": null,
   "id": "278b7a5f",
   "metadata": {},
   "outputs": [],
   "source": [
    "#Zach Hyptothesis"
   ]
  },
  {
   "cell_type": "code",
   "execution_count": null,
   "id": "ef51e69f",
   "metadata": {},
   "outputs": [],
   "source": []
  },
  {
   "cell_type": "code",
   "execution_count": null,
   "id": "3fa47d80",
   "metadata": {},
   "outputs": [],
   "source": []
  },
  {
   "cell_type": "code",
   "execution_count": null,
   "id": "3b3896ed",
   "metadata": {},
   "outputs": [],
   "source": []
  },
  {
   "cell_type": "code",
   "execution_count": null,
   "id": "5673b895",
   "metadata": {},
   "outputs": [],
   "source": []
  },
  {
   "cell_type": "code",
   "execution_count": null,
   "id": "b4db6ce4",
   "metadata": {},
   "outputs": [],
   "source": []
  }
 ],
 "metadata": {
  "kernelspec": {
   "display_name": "PythonData38",
   "language": "python",
   "name": "pythondata38"
  },
  "language_info": {
   "codemirror_mode": {
    "name": "ipython",
    "version": 3
   },
   "file_extension": ".py",
   "mimetype": "text/x-python",
   "name": "python",
   "nbconvert_exporter": "python",
   "pygments_lexer": "ipython3",
   "version": "3.9.12"
  }
 },
 "nbformat": 4,
 "nbformat_minor": 5
}
