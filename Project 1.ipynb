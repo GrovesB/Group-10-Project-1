{
 "cells": [
  {
   "cell_type": "markdown",
   "id": "6650afde",
   "metadata": {},
   "source": [
    "# Group 10 - Project 1\n",
    "\n",
    "# Members: Bryan Groves, Randy Lam, Zach Wood, Marti Reisinger\n",
    "\n",
    "# Topic: Drivers in revenue for top 1000 movies\n",
    "\n",
    "## Overview: We intend to utilize a dataset from Kaggle that outlines the top 1000 movies by their ranking. We intend to analyze the studio, runtime, and performance by date  from both revenue and number of movies that fall within these categories."
   ]
  },
  {
   "cell_type": "code",
   "execution_count": null,

   "id": "a5837883",
   "metadata": {},
   "outputs": [],
   "source": [
    "# Import \n",
    "import pandas as pd\n",
    "import matplotlib.pyplot as plt\n",
    "import numpy as np\n",
    "from scipy.stats import linregress",
    "import scipy.stats as stats"

   ]
  },
  {
   "cell_type": "code",
   "execution_count": null,
   "id": "49ec6353",
   "metadata": {},
   "outputs": [],
   "source": [
    "#Load CSV\n",
    "movie_df = pd.read_csv(\"Resources/movies.csv\")\n",
    "movie_df.head()"
   ]
  },
  {
   "cell_type": "code",

   "execution_count": null,
   "id": "e1e4ff4a",
   "metadata": {},
   "outputs": [],
   "source": [
    "cleaned_columns = movie_df.drop(columns = [\"Movie Info\",\"Unnamed: 0\",\"Genre\"])\n",
    "cleaned_columns.head()"
   ]
  },
  {
   "cell_type": "code",
   "execution_count": null,
   "id": "eb44fa3b",
   "metadata": {},
   "outputs": [],
   "source": [
    "final_movie_list = cleaned_columns.dropna()\n",
    "final_movie_list"
   ]
  },
  {
   "cell_type": "code",
   "execution_count": null,

   "id": "fe605d0c",
   "metadata": {},
   "outputs": [],
   "source": []
  },
  {
   "cell_type": "markdown",
   "id": "e3ff062c",
   "metadata": {},
   "source": [
    "# Analysis"
   ]
  },
  {
   "cell_type": "markdown",
   "id": "0f91b018",
   "metadata": {},
   "source": [
    "#### We would like to see how much revenue each studio is generating in total by creating stacked bar chart with revenue by studio"
   ]
  },
  {
   "cell_type": "code",
   "execution_count": null,
   "id": "afe4b5d0",
   "metadata": {},
   "outputs": [],
   "source": [
    "rev_totals = final_movie_list.drop(columns = [\"Movie Runtime\",\"Title\",\"License\",\"Release Date\"])\n",
    "\n",
    "rev_totals.head()"
   ]
  },
  {
   "cell_type": "markdown",
   "id": "3bdf83c0",
   "metadata": {},
   "source": [
    "#### Per studio, what is their average revenue for movies that fall within the top 1000 list"
   ]
  },
  {
   "cell_type": "code",
   "execution_count": null,
   "id": "3a13ce2b",
   "metadata": {},
   "outputs": [],
   "source": [
    "counts = rev_totals.groupby('Distributor').count()\n",
    "\n",
    "counts"
   ]
  },
  {
   "cell_type": "code",
   "execution_count": null,
   "id": "6afd5d38",
   "metadata": {},
   "outputs": [],
   "source": [
    "rev_totals.dtypes\n"
   ]
  },
  {
   "cell_type": "code",
   "execution_count": null,
   "id": "c75abc6a",
   "metadata": {},
   "outputs": [],
   "source": [
    "average_revenue = rev_totals / rev_totals.groupby('Distributor').count()\n",
    "\n",
    "average_revenue"
   ]
  },
  {
   "cell_type": "code",
   "execution_count": 8,
   "id": "421a79a0",
   "metadata": {},
   "outputs": [
    {
     "data": {
      "text/plain": [
       "14"
      ]
     },
     "execution_count": 8,
     "metadata": {},
     "output_type": "execute_result"
    }
   ],
   "source": [
    "G_data[\"Title\"].nunique()"
   ]
  },
  {
   "cell_type": "code",
   "execution_count": null,
   "id": "e29898da",
   "metadata": {},
   "outputs": [
    {
     "data": {
      "text/plain": [
       "173"
      ]
     },
     "execution_count": 9,
     "metadata": {},
     "output_type": "execute_result"
    }
   ],
   "source": [
    "PG_data[\"Title\"].nunique()\n"
   ]
  },
  {
   "cell_type": "code",
   "execution_count": 10,
   "id": "4bd02437",
   "metadata": {},
   "outputs": [
    {
     "data": {
      "text/plain": [
       "363"
      ]
     },
     "execution_count": 10,
     "metadata": {},
     "output_type": "execute_result"
    }
   ],
   "source": [
    "PG13_data[\"Title\"].nunique()"
   ]
  },
  {
   "cell_type": "code",
   "execution_count": null,
   "id": "27d72e77",
   "metadata": {},
   "outputs": [
    {
     "data": {
      "text/plain": [
       "194"
      ]
     },
     "execution_count": 11,
     "metadata": {},
     "output_type": "execute_result"
    }
   ],
   "source": [
    "R_data[\"Title\"].nunique()"
   ]
  },
  {
   "cell_type": "code",
   "execution_count": 13,
   "id": "a1ffc6ab",
   "metadata": {},
   "outputs": [],
   "source": [
    "G = 14\n",
    "PG = 173\n",
    "PG13 = 363\n",
    "R = 194"
   ]
  },
  {
   "cell_type": "code",
   "execution_count": null,
   "id": "9f1f430b",
   "metadata": {},
   "outputs": [],
   "source": [
    "license_df = pd.DataFrame({\n",
    "    \"G Rating\":G,\n",
    "    \"PG Rating\":PG,\n",
    "    \"PG-13 Rating\":PG13,\n",
    "    \"R Rating\":R,}, index=[0])\n"
   ]
  },
  {
   "cell_type": "code",
   "execution_count": 15,
   "id": "2afa6f9b",
   "metadata": {},
   "outputs": [
    {
     "data": {
      "text/html": [
       "<div>\n",
       "<style scoped>\n",
       "    .dataframe tbody tr th:only-of-type {\n",
       "        vertical-align: middle;\n",
       "    }\n",
       "\n",
       "    .dataframe tbody tr th {\n",
       "        vertical-align: top;\n",
       "    }\n",
       "\n",
       "    .dataframe thead th {\n",
       "        text-align: right;\n",
       "    }\n",
       "</style>\n",
       "<table border=\"1\" class=\"dataframe\">\n",
       "  <thead>\n",
       "    <tr style=\"text-align: right;\">\n",
       "      <th></th>\n",
       "      <th>G Rating</th>\n",
       "      <th>PG Rating</th>\n",
       "      <th>PG-13 Rating</th>\n",
       "      <th>R Rating</th>\n",
       "    </tr>\n",
       "  </thead>\n",
       "  <tbody>\n",
       "    <tr>\n",
       "      <th>0</th>\n",
       "      <td>14</td>\n",
       "      <td>173</td>\n",
       "      <td>363</td>\n",
       "      <td>194</td>\n",
       "    </tr>\n",
       "  </tbody>\n",
       "</table>\n",
       "</div>"
      ],
      "text/plain": [
       "   G Rating  PG Rating  PG-13 Rating  R Rating\n",
       "0        14        173           363       194"
      ]
     },
     "execution_count": 15,
     "metadata": {},
     "output_type": "execute_result"
    }
   ],
   "source": [
    "license_df[[\"G Rating\",\"PG Rating\",\"PG-13 Rating\",\"R Rating\"]]\n",
    "license_df"
   ]
  },
  {
   "cell_type": "code",
   "execution_count": null,
   "id": "6d25a212",
   "metadata": {},
   "outputs": [],
   "source": [
    "License_Chart = license_df.plot.bar(color=['blue', 'red', 'green', 'cyan'], align= \"center\")\n",
    "\n",
    "plt.ylabel(\"Movie Count\")\n",
    "plt.xlabel(\"Movie Rating\")\n",
    "\n",
    "plt.show()\n",
    "\n"
   ]
  },
  {
   "cell_type": "markdown",
   "id": "2e762e18",
   "metadata": {},
   "source": [
    "# Hypothesis Test"
   ]
  },
  {
   "cell_type": "markdown",
   "id": "ea44814a",
   "metadata": {},
   "source": [
    "#### Research Hypothesis: In our sample of top U.S. films, we believe that films with shorter runtime will earn more on average than those with a longer runtime.\n",
    "\n",
    "#### Null Hypothesis: There is no difference in earnings in films based on runtime."
   ]
  },
  {
   "cell_type": "code",
   "execution_count": null,
   "id": "278b7a5f",
   "metadata": {},
   "outputs": [],
   "source": [
    "#Zach Hypothesis"
   ]
  },
  {
   "cell_type": "code",
   "execution_count": null,
   "id": "ef51e69f",
   "metadata": {},
   "outputs": [],
   "source": [
    "hypoth_df = final_movie_list"
   ]
  },
  {
   "cell_type": "code",
   "execution_count": null,
   "id": "b6d6c684",
   "metadata": {},
   "outputs": [],
   "source": [
    "hypoth_df[\"Movie Runtime\"] = hypoth_df[\"Movie Runtime\"].str.replace(\" hr\", \"*60\").str.replace(\" \", \" + \").str.replace(\"min\", \"0\").apply(eval)"
   ]
  },
  {
   "cell_type": "code",
   "execution_count": null,
   "id": "fb3f20c7",
   "metadata": {},
   "outputs": [],
   "source": [
    "hypoth_df"
   ]
  },
  {
   "cell_type": "code",
   "execution_count": null,
   "id": "42d5c696",
   "metadata": {},
   "outputs": [],
   "source": [
    "hypoth_rev_list = hypoth_df[\"World Sales (in $)\"].tolist()\n",
    "hypoth_time_list = hypoth_df[\"Movie Runtime\"].tolist()"
   ]
  },
  {
   "cell_type": "code",
   "execution_count": null,
   "id": "46651bd9",
   "metadata": {},
   "outputs": [],
   "source": [
    "print(hypoth_df[\"Movie Runtime\"].median())\n",
    "print(hypoth_df[\"Movie Runtime\"].mean())\n",
    "print(hypoth_df[\"Movie Runtime\"].min())\n",
    "print(hypoth_df[\"Movie Runtime\"].max())"
   ]
  },
  {
   "cell_type": "code",
   "execution_count": null,
   "id": "324db8f1",
   "metadata": {},
   "outputs": [],
   "source": [
    "hypoth_time_series = hypoth_df[\"Movie Runtime\"] \n",
    "\n",
    "hypoth_quartiles = hypoth_time_series.quantile([.25, .5, .75])\n",
    "hypoth_lower = hypoth_quartiles[.25]\n",
    "hypoth_upper = hypoth_quartiles[.75]\n",
    "hypoth_iqr = hypoth_upper - hypoth_lower\n",
    "\n",
    "print(hypoth_lower)\n",
    "print(hypoth_upper)"
   ]
  },
  {
   "cell_type": "code",
   "execution_count": null,
   "id": "067ae6d9",
   "metadata": {},
   "outputs": [],
   "source": [
    "plt.hist(hypoth_time_list)\n",
    "\n",
    "plt.title(\"Distribution of Films by Runtime\")\n",
    "plt.xlabel(\"Film Runtime in Minutes\")\n",
    "plt.ylabel(\"Count\")\n",
    "\n",
    "plt.show()"
   ]
  },
  {
   "cell_type": "code",
   "execution_count": null,
   "id": "beaa0803",
   "metadata": {},
   "outputs": [],
   "source": [
    "hypoth_s_df = hypoth_df.loc[hypoth_df[\"Movie Runtime\"] <= 101]\n",
    "hypoth_l_df = hypoth_df.loc[hypoth_df[\"Movie Runtime\"] >= 130]\n",
    "\n",
    "hypoth_m_df = hypoth_df.loc[(hypoth_df[\"Movie Runtime\"] > 101) & (hypoth_df[\"Movie Runtime\"] < 130)]"
   ]
  },
  {
   "cell_type": "code",
   "execution_count": null,
   "id": "33e62052",
   "metadata": {},
   "outputs": [],
   "source": [
    "hypoth_s_series = hypoth_s_df[\"World Sales (in $)\"].squeeze()\n",
    "hypoth_l_series = hypoth_l_df[\"World Sales (in $)\"].squeeze()\n",
    "\n",
    "hypoth_s_timelist = hypoth_s_df[\"Movie Runtime\"].to_list()\n",
    "hypoth_l_timelist = hypoth_l_df[\"Movie Runtime\"].to_list()"
   ]
  },
  {
   "cell_type": "code",
   "execution_count": null,
   "id": "777ada7f",
   "metadata": {},
   "outputs": [],
   "source": [
    "print(hypoth_s_series.mean())\n",
    "print(hypoth_l_series.mean())"
   ]
  },
  {
   "cell_type": "code",
   "execution_count": null,
   "id": "a969cabd",
   "metadata": {},
   "outputs": [],
   "source": [
    "stats.ttest_ind(hypoth_s_series, hypoth_l_series, alternative = \"greater\")"
   ]
  },
  {
   "cell_type": "code",
   "execution_count": null,
   "id": "8c968a91",
   "metadata": {},
   "outputs": [],
   "source": [
    "hypoth_m_series = hypoth_m_df[\"World Sales (in $)\"].squeeze()\n",
    "\n",
    "hypoth_m_timelist = hypoth_m_df[\"Movie Runtime\"].to_list()"
   ]
  },
  {
   "cell_type": "code",
   "execution_count": null,
   "id": "bb895cc4",
   "metadata": {},
   "outputs": [],
   "source": [
    "plt.scatter(hypoth_s_timelist, hypoth_s_series, marker = \"o\", facecolors = \"lightblue\", edgecolors = \"black\")\n",
    "plt.scatter(hypoth_l_timelist, hypoth_l_series, marker = \"o\", facecolors = \"lightgreen\", edgecolors = \"black\")\n",
    "plt.scatter(hypoth_m_timelist, hypoth_m_series, marker = \"o\", facecolors = \"orange\", edgecolors = \"black\")\n",
    "\n",
    "plt.title(\"Total Film Sales by Runtime\")\n",
    "plt.xlabel(\"Film Runtime in Minutes\")\n",
    "plt.ylabel(\"World Sales in Billions of Dollars\")\n",
    "\n",
    "plt.show()"
   ]
  },
  {
   "cell_type": "code",
   "execution_count": null,
   "id": "73f99f7b",
   "metadata": {},
   "outputs": [],
   "source": [
    "final_movie_list[\"Domestic Sales (in $)\"] = final_movie_list['Domestic Sales (in $)'].map(\"${:,.2f}\".format)\n",
    "final_movie_list[\"International Sales (in $)\"] = final_movie_list['International Sales (in $)'].map(\"${:,.2f}\".format)\n",
    "final_movie_list[\"World Sales (in $)\"] = final_movie_list['World Sales (in $)'].map(\"${:,.2f}\".format)\n",
    "\n",
    "final_movie_list"
   ]
  }
 ],
 "metadata": {
  "kernelspec": {
   "display_name": "Python 3 (ipykernel)",
   "language": "python",
   "name": "python3"
  },
  "language_info": {
   "codemirror_mode": {
    "name": "ipython",
    "version": 3
   },
   "file_extension": ".py",
   "mimetype": "text/x-python",
   "name": "python",
   "nbconvert_exporter": "python",
   "pygments_lexer": "ipython3",
   "version": "3.8.13"
  }
 },
 "nbformat": 4,
 "nbformat_minor": 5
}
